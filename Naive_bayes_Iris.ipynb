{
  "nbformat": 4,
  "nbformat_minor": 0,
  "metadata": {
    "colab": {
      "name": "iris.ipynb",
      "provenance": []
    },
    "kernelspec": {
      "name": "python3",
      "display_name": "Python 3"
    },
    "language_info": {
      "name": "python"
    }
  },
  "cells": [
    {
      "cell_type": "markdown",
      "metadata": {
        "id": "wVnyerGjDjAX"
      },
      "source": [
        "#IMPORTING THE LIBRARIES "
      ]
    },
    {
      "cell_type": "code",
      "metadata": {
        "id": "OrP2G0GWDcFd"
      },
      "source": [
        "import numpy as np\n",
        "import matplotlib.pyplot as plt\n",
        "import pandas as pd"
      ],
      "execution_count": null,
      "outputs": []
    },
    {
      "cell_type": "markdown",
      "metadata": {
        "id": "gQIt4_W4D3lI"
      },
      "source": [
        "#Importing the dataset "
      ]
    },
    {
      "cell_type": "code",
      "metadata": {
        "id": "SdGaVPC2EBnD"
      },
      "source": [
        "dataset=pd.read_csv('/content/Iris (1).csv')\n",
        "x=dataset.iloc[:,:-1].values\n",
        "y=dataset.iloc[:,-1].values"
      ],
      "execution_count": null,
      "outputs": []
    },
    {
      "cell_type": "markdown",
      "metadata": {
        "id": "F2ue9KmjEt1I"
      },
      "source": [
        "#Splitting the data in to training set and test set"
      ]
    },
    {
      "cell_type": "code",
      "metadata": {
        "id": "CnWB3Ot8EtGJ"
      },
      "source": [
        "from sklearn.model_selection import train_test_split\n",
        "x_train,x_test,y_train,y_test=train_test_split(x,y,test_size=0.20,random_state=0)"
      ],
      "execution_count": null,
      "outputs": []
    },
    {
      "cell_type": "code",
      "metadata": {
        "id": "cIi-HWbjFrK-",
        "colab": {
          "base_uri": "https://localhost:8080/"
        },
        "outputId": "cf2d3534-554f-4319-a721-21efe69cd3d8"
      },
      "source": [
        "print(x_train)"
      ],
      "execution_count": null,
      "outputs": [
        {
          "output_type": "stream",
          "text": [
            "[[5.2 3.4 1.4 0.2]\n",
            " [5.1 2.5 3.  1.1]\n",
            " [6.2 2.9 4.3 1.3]\n",
            " [5.9 3.2 4.8 1.8]\n",
            " [5.1 3.8 1.5 0.3]\n",
            " [4.9 2.5 4.5 1.7]\n",
            " [6.4 3.1 5.5 1.8]\n",
            " [6.  2.2 4.  1. ]\n",
            " [6.9 3.1 4.9 1.5]\n",
            " [4.6 3.1 1.5 0.2]\n",
            " [6.5 3.  5.2 2. ]\n",
            " [4.8 3.4 1.6 0.2]\n",
            " [4.9 2.4 3.3 1. ]\n",
            " [5.8 2.8 5.1 2.4]\n",
            " [6.7 3.3 5.7 2.5]\n",
            " [7.7 3.8 6.7 2.2]\n",
            " [5.8 2.7 4.1 1. ]\n",
            " [5.7 2.6 3.5 1. ]\n",
            " [6.3 2.5 4.9 1.5]\n",
            " [6.4 2.8 5.6 2.2]\n",
            " [5.6 2.8 4.9 2. ]\n",
            " [5.5 2.6 4.4 1.2]\n",
            " [6.3 2.5 5.  1.9]\n",
            " [5.8 2.7 5.1 1.9]\n",
            " [6.4 3.2 4.5 1.5]\n",
            " [6.1 3.  4.9 1.8]\n",
            " [5.9 3.  4.2 1.5]\n",
            " [5.4 3.4 1.5 0.4]\n",
            " [5.6 2.9 3.6 1.3]\n",
            " [5.8 2.6 4.  1.2]\n",
            " [5.4 3.  4.5 1.5]\n",
            " [6.3 2.3 4.4 1.3]\n",
            " [6.7 3.3 5.7 2.1]\n",
            " [5.7 2.8 4.1 1.3]\n",
            " [6.3 2.7 4.9 1.8]\n",
            " [5.  3.3 1.4 0.2]\n",
            " [5.8 4.  1.2 0.2]\n",
            " [7.2 3.6 6.1 2.5]\n",
            " [5.  2.3 3.3 1. ]\n",
            " [5.1 3.7 1.5 0.4]\n",
            " [5.4 3.9 1.3 0.4]\n",
            " [5.5 2.3 4.  1.3]\n",
            " [5.  3.6 1.4 0.2]\n",
            " [6.4 2.8 5.6 2.1]\n",
            " [6.7 3.  5.  1.7]\n",
            " [5.  3.4 1.5 0.2]\n",
            " [5.6 2.5 3.9 1.1]\n",
            " [7.3 2.9 6.3 1.8]\n",
            " [5.6 2.7 4.2 1.3]\n",
            " [4.3 3.  1.1 0.1]\n",
            " [7.2 3.2 6.  1.8]\n",
            " [6.2 3.4 5.4 2.3]\n",
            " [7.1 3.  5.9 2.1]\n",
            " [6.2 2.8 4.8 1.8]\n",
            " [4.6 3.2 1.4 0.2]\n",
            " [4.8 3.  1.4 0.1]\n",
            " [6.7 2.5 5.8 1.8]\n",
            " [5.7 2.5 5.  2. ]\n",
            " [4.4 3.2 1.3 0.2]\n",
            " [6.4 3.2 5.3 2.3]\n",
            " [4.7 3.2 1.3 0.2]\n",
            " [6.4 2.7 5.3 1.9]\n",
            " [6.9 3.1 5.4 2.1]\n",
            " [5.  3.5 1.6 0.6]\n",
            " [5.4 3.9 1.7 0.4]\n",
            " [7.2 3.  5.8 1.6]\n",
            " [5.7 3.8 1.7 0.3]\n",
            " [5.1 3.4 1.5 0.2]\n",
            " [4.6 3.4 1.4 0.3]\n",
            " [6.5 2.8 4.6 1.5]\n",
            " [6.8 3.2 5.9 2.3]\n",
            " [6.3 2.9 5.6 1.8]\n",
            " [4.9 3.  1.4 0.2]\n",
            " [5.  3.2 1.2 0.2]\n",
            " [4.7 3.2 1.6 0.2]\n",
            " [6.3 3.3 4.7 1.6]\n",
            " [6.8 2.8 4.8 1.4]\n",
            " [5.5 3.5 1.3 0.2]\n",
            " [4.8 3.4 1.9 0.2]\n",
            " [6.6 3.  4.4 1.4]\n",
            " [5.2 4.1 1.5 0.1]\n",
            " [7.7 2.8 6.7 2. ]\n",
            " [6.6 2.9 4.6 1.3]\n",
            " [7.9 3.8 6.4 2. ]\n",
            " [5.6 3.  4.5 1.5]\n",
            " [5.5 4.2 1.4 0.2]\n",
            " [6.  3.  4.8 1.8]\n",
            " [5.7 4.4 1.5 0.4]\n",
            " [6.9 3.2 5.7 2.3]\n",
            " [5.4 3.4 1.7 0.2]\n",
            " [4.8 3.1 1.6 0.2]\n",
            " [7.4 2.8 6.1 1.9]\n",
            " [7.  3.2 4.7 1.4]\n",
            " [6.3 3.4 5.6 2.4]\n",
            " [6.3 3.3 6.  2.5]\n",
            " [6.  2.7 5.1 1.6]\n",
            " [6.7 3.1 4.4 1.4]\n",
            " [5.9 3.  5.1 1.8]\n",
            " [5.5 2.4 3.8 1.1]\n",
            " [6.5 3.  5.5 1.8]\n",
            " [6.7 3.  5.2 2.3]\n",
            " [6.1 2.8 4.7 1.2]\n",
            " [6.  2.9 4.5 1.5]\n",
            " [5.  3.4 1.6 0.4]\n",
            " [5.8 2.7 3.9 1.2]\n",
            " [6.7 3.1 5.6 2.4]\n",
            " [5.8 2.7 5.1 1.9]\n",
            " [5.  3.5 1.3 0.3]\n",
            " [5.2 2.7 3.9 1.4]\n",
            " [5.5 2.5 4.  1.3]\n",
            " [6.1 2.8 4.  1.3]\n",
            " [5.6 3.  4.1 1.3]\n",
            " [4.9 3.1 1.5 0.1]\n",
            " [4.6 3.6 1.  0.2]\n",
            " [5.4 3.7 1.5 0.2]\n",
            " [6.5 3.  5.8 2.2]\n",
            " [6.2 2.2 4.5 1.5]\n",
            " [7.7 2.6 6.9 2.3]\n",
            " [5.3 3.7 1.5 0.2]]\n"
          ],
          "name": "stdout"
        }
      ]
    },
    {
      "cell_type": "code",
      "metadata": {
        "id": "iE-j4Xd9FrDQ",
        "colab": {
          "base_uri": "https://localhost:8080/"
        },
        "outputId": "032858d5-b192-409f-b8b8-8d7851126900"
      },
      "source": [
        "print(x_test)"
      ],
      "execution_count": null,
      "outputs": [
        {
          "output_type": "stream",
          "text": [
            "[[6.1 2.6 5.6 1.4]\n",
            " [6.5 3.2 5.1 2. ]\n",
            " [5.  2.  3.5 1. ]\n",
            " [5.5 2.4 3.7 1. ]\n",
            " [4.4 2.9 1.4 0.2]\n",
            " [7.6 3.  6.6 2.1]\n",
            " [6.9 3.1 5.1 2.3]\n",
            " [5.7 2.9 4.2 1.3]\n",
            " [6.  2.2 5.  1.5]\n",
            " [6.  3.4 4.5 1.6]\n",
            " [4.9 3.1 1.5 0.1]\n",
            " [4.8 3.  1.4 0.3]\n",
            " [5.7 2.8 4.5 1.3]\n",
            " [5.  3.  1.6 0.2]\n",
            " [4.4 3.  1.3 0.2]\n",
            " [6.3 2.8 5.1 1.5]\n",
            " [6.8 3.  5.5 2.1]\n",
            " [6.4 2.9 4.3 1.3]\n",
            " [5.1 3.5 1.4 0.3]\n",
            " [5.1 3.8 1.6 0.2]\n",
            " [4.5 2.3 1.3 0.3]\n",
            " [4.9 3.1 1.5 0.1]\n",
            " [6.7 3.1 4.7 1.5]\n",
            " [5.1 3.3 1.7 0.5]\n",
            " [6.1 2.9 4.7 1.4]\n",
            " [5.7 3.  4.2 1.2]\n",
            " [6.1 3.  4.6 1.4]\n",
            " [5.2 3.5 1.5 0.2]\n",
            " [5.1 3.8 1.9 0.4]\n",
            " [7.7 3.  6.1 2.3]]\n"
          ],
          "name": "stdout"
        }
      ]
    },
    {
      "cell_type": "markdown",
      "metadata": {
        "id": "IxxtNfTwIi6Y"
      },
      "source": [
        "#Training the navie bayes model on the datsset"
      ]
    },
    {
      "cell_type": "code",
      "metadata": {
        "colab": {
          "base_uri": "https://localhost:8080/"
        },
        "id": "zojROv9gIszS",
        "outputId": "4cbef9d2-a50d-481f-a0bf-643bb233162c"
      },
      "source": [
        "from sklearn.naive_bayes import GaussianNB\n",
        "classifier=GaussianNB()\n",
        "classifier.fit(x_train,y_train)"
      ],
      "execution_count": null,
      "outputs": [
        {
          "output_type": "execute_result",
          "data": {
            "text/plain": [
              "GaussianNB(priors=None, var_smoothing=1e-09)"
            ]
          },
          "metadata": {
            "tags": []
          },
          "execution_count": 6
        }
      ]
    },
    {
      "cell_type": "code",
      "metadata": {
        "colab": {
          "base_uri": "https://localhost:8080/"
        },
        "id": "-N3_HPwJ-MSs",
        "outputId": "11dbea05-dc20-43e8-e7d3-e4797c31a2f2"
      },
      "source": [
        "new=classifier.predict([[5.8,2.7,5.1,1.9]])\n",
        "new"
      ],
      "execution_count": null,
      "outputs": [
        {
          "output_type": "execute_result",
          "data": {
            "text/plain": [
              "array(['Iris-virginica'], dtype='<U15')"
            ]
          },
          "metadata": {
            "tags": []
          },
          "execution_count": 7
        }
      ]
    },
    {
      "cell_type": "markdown",
      "metadata": {
        "id": "JXmI6Do5JyRw"
      },
      "source": [
        "#Predicting the test set results"
      ]
    },
    {
      "cell_type": "code",
      "metadata": {
        "colab": {
          "base_uri": "https://localhost:8080/"
        },
        "id": "T5Yg0a2VJ2bL",
        "outputId": "1e48b02d-4c17-4ebf-ff8b-9d1767d05c9d"
      },
      "source": [
        "y_pred=classifier.predict(x_test)\n",
        "print(np.concatenate((y_pred.reshape(len(y_pred),1),y_test.reshape(len(y_test),1)),1))"
      ],
      "execution_count": null,
      "outputs": [
        {
          "output_type": "stream",
          "text": [
            "[['Iris-versicolor' 'Iris-virginica']\n",
            " ['Iris-virginica' 'Iris-virginica']\n",
            " ['Iris-versicolor' 'Iris-versicolor']\n",
            " ['Iris-versicolor' 'Iris-versicolor']\n",
            " ['Iris-setosa' 'Iris-setosa']\n",
            " ['Iris-virginica' 'Iris-virginica']\n",
            " ['Iris-virginica' 'Iris-virginica']\n",
            " ['Iris-versicolor' 'Iris-versicolor']\n",
            " ['Iris-versicolor' 'Iris-virginica']\n",
            " ['Iris-versicolor' 'Iris-versicolor']\n",
            " ['Iris-setosa' 'Iris-setosa']\n",
            " ['Iris-setosa' 'Iris-setosa']\n",
            " ['Iris-versicolor' 'Iris-versicolor']\n",
            " ['Iris-setosa' 'Iris-setosa']\n",
            " ['Iris-setosa' 'Iris-setosa']\n",
            " ['Iris-versicolor' 'Iris-virginica']\n",
            " ['Iris-virginica' 'Iris-virginica']\n",
            " ['Iris-versicolor' 'Iris-versicolor']\n",
            " ['Iris-setosa' 'Iris-setosa']\n",
            " ['Iris-setosa' 'Iris-setosa']\n",
            " ['Iris-setosa' 'Iris-setosa']\n",
            " ['Iris-setosa' 'Iris-setosa']\n",
            " ['Iris-versicolor' 'Iris-versicolor']\n",
            " ['Iris-setosa' 'Iris-setosa']\n",
            " ['Iris-versicolor' 'Iris-versicolor']\n",
            " ['Iris-versicolor' 'Iris-versicolor']\n",
            " ['Iris-versicolor' 'Iris-versicolor']\n",
            " ['Iris-setosa' 'Iris-setosa']\n",
            " ['Iris-setosa' 'Iris-setosa']\n",
            " ['Iris-virginica' 'Iris-virginica']]\n"
          ],
          "name": "stdout"
        }
      ]
    },
    {
      "cell_type": "markdown",
      "metadata": {
        "id": "Y8sHpBzhKoWt"
      },
      "source": [
        "#accuracy"
      ]
    },
    {
      "cell_type": "code",
      "metadata": {
        "colab": {
          "base_uri": "https://localhost:8080/"
        },
        "id": "ZabRRNcSKrvF",
        "outputId": "4620c85d-6d17-44e8-dee7-eba9938bbd77"
      },
      "source": [
        "from sklearn.metrics import accuracy_score,confusion_matrix\n",
        "cm= confusion_matrix(y_test,y_pred)\n",
        "print(cm)\n",
        "accuracy_score(y_pred,y_test)"
      ],
      "execution_count": null,
      "outputs": [
        {
          "output_type": "stream",
          "text": [
            "[[12  0  0]\n",
            " [ 0 10  0]\n",
            " [ 0  3  5]]\n"
          ],
          "name": "stdout"
        },
        {
          "output_type": "execute_result",
          "data": {
            "text/plain": [
              "0.9"
            ]
          },
          "metadata": {
            "tags": []
          },
          "execution_count": 9
        }
      ]
    }
  ]
}